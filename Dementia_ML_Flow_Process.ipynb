{
  "nbformat": 4,
  "nbformat_minor": 0,
  "metadata": {
    "colab": {
      "name": "Dementia_ML_Flow_Process.ipynb",
      "provenance": [],
      "collapsed_sections": []
    },
    "kernelspec": {
      "name": "python3",
      "display_name": "Python 3"
    },
    "language_info": {
      "name": "python"
    }
  },
  "cells": [
    {
      "cell_type": "code",
      "source": [
        "!python --version\n"
      ],
      "metadata": {
        "colab": {
          "base_uri": "https://localhost:8080/"
        },
        "id": "sUXcBzUUzM9G",
        "outputId": "313493ec-f323-4bea-934d-35f245331b58"
      },
      "execution_count": null,
      "outputs": [
        {
          "output_type": "stream",
          "name": "stdout",
          "text": [
            "Python 3.7.13\n"
          ]
        }
      ]
    },
    {
      "cell_type": "code",
      "execution_count": null,
      "metadata": {
        "id": "GjM1D_OkHMb7"
      },
      "outputs": [],
      "source": [
        "import pandas as pd\n",
        "import numpy as np\n",
        "import matplotlib.pyplot as plt\n",
        "import seaborn as sns"
      ]
    },
    {
      "cell_type": "code",
      "source": [
        "from sklearn.preprocessing import StandardScaler, MinMaxScaler\n",
        "from sklearn.model_selection import train_test_split, GridSearchCV\n",
        "from sklearn.linear_model import LogisticRegression\n",
        "from sklearn.metrics import confusion_matrix, accuracy_score, classification_report, mean_squared_error\n",
        "\n",
        "from sklearn.ensemble import RandomForestClassifier\n",
        "from sklearn.svm import SVC\n",
        "from sklearn.linear_model import LogisticRegression\n",
        "from xgboost import XGBClassifier"
      ],
      "metadata": {
        "id": "nb4FAvsYX4aK"
      },
      "execution_count": null,
      "outputs": []
    },
    {
      "cell_type": "markdown",
      "source": [
        "**Read in the dataset and check the first 5 rows**"
      ],
      "metadata": {
        "id": "d2s2HeLUH1SW"
      }
    },
    {
      "cell_type": "code",
      "source": [
        "data = pd.read_csv('/content/dementia_dataset.csv')"
      ],
      "metadata": {
        "id": "HVkw_h3gHxyd"
      },
      "execution_count": null,
      "outputs": []
    },
    {
      "cell_type": "code",
      "source": [
        "data.head()"
      ],
      "metadata": {
        "colab": {
          "base_uri": "https://localhost:8080/",
          "height": 204
        },
        "id": "tNrppUzNHyaX",
        "outputId": "f727ea62-a00a-4369-deb1-86777f81c210"
      },
      "execution_count": null,
      "outputs": [
        {
          "output_type": "execute_result",
          "data": {
            "text/plain": [
              "  Subject ID         MRI ID        Group  Visit  MR Delay M/F Hand  Age  EDUC  \\\n",
              "0  OAS2_0001  OAS2_0001_MR1  Nondemented      1         0   M    R   87    14   \n",
              "1  OAS2_0001  OAS2_0001_MR2  Nondemented      2       457   M    R   88    14   \n",
              "2  OAS2_0002  OAS2_0002_MR1     Demented      1         0   M    R   75    12   \n",
              "3  OAS2_0002  OAS2_0002_MR2     Demented      2       560   M    R   76    12   \n",
              "4  OAS2_0002  OAS2_0002_MR3     Demented      3      1895   M    R   80    12   \n",
              "\n",
              "   SES  MMSE  CDR  eTIV   nWBV    ASF  \n",
              "0  2.0  27.0  0.0  1987  0.696  0.883  \n",
              "1  2.0  30.0  0.0  2004  0.681  0.876  \n",
              "2  NaN  23.0  0.5  1678  0.736  1.046  \n",
              "3  NaN  28.0  0.5  1738  0.713  1.010  \n",
              "4  NaN  22.0  0.5  1698  0.701  1.034  "
            ],
            "text/html": [
              "\n",
              "  <div id=\"df-c2112fc7-4276-43b1-be52-c95337f2dd45\">\n",
              "    <div class=\"colab-df-container\">\n",
              "      <div>\n",
              "<style scoped>\n",
              "    .dataframe tbody tr th:only-of-type {\n",
              "        vertical-align: middle;\n",
              "    }\n",
              "\n",
              "    .dataframe tbody tr th {\n",
              "        vertical-align: top;\n",
              "    }\n",
              "\n",
              "    .dataframe thead th {\n",
              "        text-align: right;\n",
              "    }\n",
              "</style>\n",
              "<table border=\"1\" class=\"dataframe\">\n",
              "  <thead>\n",
              "    <tr style=\"text-align: right;\">\n",
              "      <th></th>\n",
              "      <th>Subject ID</th>\n",
              "      <th>MRI ID</th>\n",
              "      <th>Group</th>\n",
              "      <th>Visit</th>\n",
              "      <th>MR Delay</th>\n",
              "      <th>M/F</th>\n",
              "      <th>Hand</th>\n",
              "      <th>Age</th>\n",
              "      <th>EDUC</th>\n",
              "      <th>SES</th>\n",
              "      <th>MMSE</th>\n",
              "      <th>CDR</th>\n",
              "      <th>eTIV</th>\n",
              "      <th>nWBV</th>\n",
              "      <th>ASF</th>\n",
              "    </tr>\n",
              "  </thead>\n",
              "  <tbody>\n",
              "    <tr>\n",
              "      <th>0</th>\n",
              "      <td>OAS2_0001</td>\n",
              "      <td>OAS2_0001_MR1</td>\n",
              "      <td>Nondemented</td>\n",
              "      <td>1</td>\n",
              "      <td>0</td>\n",
              "      <td>M</td>\n",
              "      <td>R</td>\n",
              "      <td>87</td>\n",
              "      <td>14</td>\n",
              "      <td>2.0</td>\n",
              "      <td>27.0</td>\n",
              "      <td>0.0</td>\n",
              "      <td>1987</td>\n",
              "      <td>0.696</td>\n",
              "      <td>0.883</td>\n",
              "    </tr>\n",
              "    <tr>\n",
              "      <th>1</th>\n",
              "      <td>OAS2_0001</td>\n",
              "      <td>OAS2_0001_MR2</td>\n",
              "      <td>Nondemented</td>\n",
              "      <td>2</td>\n",
              "      <td>457</td>\n",
              "      <td>M</td>\n",
              "      <td>R</td>\n",
              "      <td>88</td>\n",
              "      <td>14</td>\n",
              "      <td>2.0</td>\n",
              "      <td>30.0</td>\n",
              "      <td>0.0</td>\n",
              "      <td>2004</td>\n",
              "      <td>0.681</td>\n",
              "      <td>0.876</td>\n",
              "    </tr>\n",
              "    <tr>\n",
              "      <th>2</th>\n",
              "      <td>OAS2_0002</td>\n",
              "      <td>OAS2_0002_MR1</td>\n",
              "      <td>Demented</td>\n",
              "      <td>1</td>\n",
              "      <td>0</td>\n",
              "      <td>M</td>\n",
              "      <td>R</td>\n",
              "      <td>75</td>\n",
              "      <td>12</td>\n",
              "      <td>NaN</td>\n",
              "      <td>23.0</td>\n",
              "      <td>0.5</td>\n",
              "      <td>1678</td>\n",
              "      <td>0.736</td>\n",
              "      <td>1.046</td>\n",
              "    </tr>\n",
              "    <tr>\n",
              "      <th>3</th>\n",
              "      <td>OAS2_0002</td>\n",
              "      <td>OAS2_0002_MR2</td>\n",
              "      <td>Demented</td>\n",
              "      <td>2</td>\n",
              "      <td>560</td>\n",
              "      <td>M</td>\n",
              "      <td>R</td>\n",
              "      <td>76</td>\n",
              "      <td>12</td>\n",
              "      <td>NaN</td>\n",
              "      <td>28.0</td>\n",
              "      <td>0.5</td>\n",
              "      <td>1738</td>\n",
              "      <td>0.713</td>\n",
              "      <td>1.010</td>\n",
              "    </tr>\n",
              "    <tr>\n",
              "      <th>4</th>\n",
              "      <td>OAS2_0002</td>\n",
              "      <td>OAS2_0002_MR3</td>\n",
              "      <td>Demented</td>\n",
              "      <td>3</td>\n",
              "      <td>1895</td>\n",
              "      <td>M</td>\n",
              "      <td>R</td>\n",
              "      <td>80</td>\n",
              "      <td>12</td>\n",
              "      <td>NaN</td>\n",
              "      <td>22.0</td>\n",
              "      <td>0.5</td>\n",
              "      <td>1698</td>\n",
              "      <td>0.701</td>\n",
              "      <td>1.034</td>\n",
              "    </tr>\n",
              "  </tbody>\n",
              "</table>\n",
              "</div>\n",
              "      <button class=\"colab-df-convert\" onclick=\"convertToInteractive('df-c2112fc7-4276-43b1-be52-c95337f2dd45')\"\n",
              "              title=\"Convert this dataframe to an interactive table.\"\n",
              "              style=\"display:none;\">\n",
              "        \n",
              "  <svg xmlns=\"http://www.w3.org/2000/svg\" height=\"24px\"viewBox=\"0 0 24 24\"\n",
              "       width=\"24px\">\n",
              "    <path d=\"M0 0h24v24H0V0z\" fill=\"none\"/>\n",
              "    <path d=\"M18.56 5.44l.94 2.06.94-2.06 2.06-.94-2.06-.94-.94-2.06-.94 2.06-2.06.94zm-11 1L8.5 8.5l.94-2.06 2.06-.94-2.06-.94L8.5 2.5l-.94 2.06-2.06.94zm10 10l.94 2.06.94-2.06 2.06-.94-2.06-.94-.94-2.06-.94 2.06-2.06.94z\"/><path d=\"M17.41 7.96l-1.37-1.37c-.4-.4-.92-.59-1.43-.59-.52 0-1.04.2-1.43.59L10.3 9.45l-7.72 7.72c-.78.78-.78 2.05 0 2.83L4 21.41c.39.39.9.59 1.41.59.51 0 1.02-.2 1.41-.59l7.78-7.78 2.81-2.81c.8-.78.8-2.07 0-2.86zM5.41 20L4 18.59l7.72-7.72 1.47 1.35L5.41 20z\"/>\n",
              "  </svg>\n",
              "      </button>\n",
              "      \n",
              "  <style>\n",
              "    .colab-df-container {\n",
              "      display:flex;\n",
              "      flex-wrap:wrap;\n",
              "      gap: 12px;\n",
              "    }\n",
              "\n",
              "    .colab-df-convert {\n",
              "      background-color: #E8F0FE;\n",
              "      border: none;\n",
              "      border-radius: 50%;\n",
              "      cursor: pointer;\n",
              "      display: none;\n",
              "      fill: #1967D2;\n",
              "      height: 32px;\n",
              "      padding: 0 0 0 0;\n",
              "      width: 32px;\n",
              "    }\n",
              "\n",
              "    .colab-df-convert:hover {\n",
              "      background-color: #E2EBFA;\n",
              "      box-shadow: 0px 1px 2px rgba(60, 64, 67, 0.3), 0px 1px 3px 1px rgba(60, 64, 67, 0.15);\n",
              "      fill: #174EA6;\n",
              "    }\n",
              "\n",
              "    [theme=dark] .colab-df-convert {\n",
              "      background-color: #3B4455;\n",
              "      fill: #D2E3FC;\n",
              "    }\n",
              "\n",
              "    [theme=dark] .colab-df-convert:hover {\n",
              "      background-color: #434B5C;\n",
              "      box-shadow: 0px 1px 3px 1px rgba(0, 0, 0, 0.15);\n",
              "      filter: drop-shadow(0px 1px 2px rgba(0, 0, 0, 0.3));\n",
              "      fill: #FFFFFF;\n",
              "    }\n",
              "  </style>\n",
              "\n",
              "      <script>\n",
              "        const buttonEl =\n",
              "          document.querySelector('#df-c2112fc7-4276-43b1-be52-c95337f2dd45 button.colab-df-convert');\n",
              "        buttonEl.style.display =\n",
              "          google.colab.kernel.accessAllowed ? 'block' : 'none';\n",
              "\n",
              "        async function convertToInteractive(key) {\n",
              "          const element = document.querySelector('#df-c2112fc7-4276-43b1-be52-c95337f2dd45');\n",
              "          const dataTable =\n",
              "            await google.colab.kernel.invokeFunction('convertToInteractive',\n",
              "                                                     [key], {});\n",
              "          if (!dataTable) return;\n",
              "\n",
              "          const docLinkHtml = 'Like what you see? Visit the ' +\n",
              "            '<a target=\"_blank\" href=https://colab.research.google.com/notebooks/data_table.ipynb>data table notebook</a>'\n",
              "            + ' to learn more about interactive tables.';\n",
              "          element.innerHTML = '';\n",
              "          dataTable['output_type'] = 'display_data';\n",
              "          await google.colab.output.renderOutput(dataTable, element);\n",
              "          const docLink = document.createElement('div');\n",
              "          docLink.innerHTML = docLinkHtml;\n",
              "          element.appendChild(docLink);\n",
              "        }\n",
              "      </script>\n",
              "    </div>\n",
              "  </div>\n",
              "  "
            ]
          },
          "metadata": {},
          "execution_count": 111
        }
      ]
    },
    {
      "cell_type": "markdown",
      "source": [
        "# **Exploratory Data Analysis**"
      ],
      "metadata": {
        "id": "luhElb5DJP-m"
      }
    },
    {
      "cell_type": "markdown",
      "source": [
        "**Drop the default columns, which are the Subject ID, MRI ID, Hand, and converte the 'M/F' column name to 'Sex'**"
      ],
      "metadata": {
        "id": "dcbb5TyoIRTq"
      }
    },
    {
      "cell_type": "code",
      "source": [
        "data.drop(['Subject ID', 'MRI ID', 'Hand'], axis = 1, inplace=True) #Remove default columns"
      ],
      "metadata": {
        "id": "-c6D9ltNH0vN"
      },
      "execution_count": null,
      "outputs": []
    },
    {
      "cell_type": "code",
      "source": [
        "data = data.rename(columns = {'M/F':'Sex'}) #rename the M/F column to Sex"
      ],
      "metadata": {
        "id": "HlV31rw_Id0r"
      },
      "execution_count": null,
      "outputs": []
    },
    {
      "cell_type": "markdown",
      "source": [
        "**change the categorical columns to numeric columns such that; ('Nondemented'= 0,'Demented' = 1, 'Converted' = 2) - with respect to the 'Group' column and ('M' = 1, 'F' = 0) - with respect to the 'Sex' column.**"
      ],
      "metadata": {
        "id": "ncvC_NkVIkni"
      }
    },
    {
      "cell_type": "code",
      "source": [
        "#Create a dictionary to map the categorical values to numeric\n",
        "group_mapp = {'Nondemented':0,'Demented':1, 'Converted':2} \n",
        "sex_mapp = {'M':1, 'F':0}\n",
        "\n",
        "\n",
        "data.Group = data.Group.map(group_mapp) #Perform the mapping\n",
        "data.Sex = data.Sex.map(sex_mapp)"
      ],
      "metadata": {
        "id": "ATCp3BOyIgge"
      },
      "execution_count": null,
      "outputs": []
    },
    {
      "cell_type": "markdown",
      "source": [
        "**Check for missing values**"
      ],
      "metadata": {
        "id": "bQMAhQ5yJfFo"
      }
    },
    {
      "cell_type": "code",
      "source": [
        "data.isnull().sum()"
      ],
      "metadata": {
        "colab": {
          "base_uri": "https://localhost:8080/"
        },
        "id": "AEHTbXtuJiU0",
        "outputId": "2ce8ae89-c5aa-4901-a211-bb82b24ed729"
      },
      "execution_count": null,
      "outputs": [
        {
          "output_type": "execute_result",
          "data": {
            "text/plain": [
              "Group        0\n",
              "Visit        0\n",
              "MR Delay     0\n",
              "Sex          0\n",
              "Age          0\n",
              "EDUC         0\n",
              "SES         19\n",
              "MMSE         2\n",
              "CDR          0\n",
              "eTIV         0\n",
              "nWBV         0\n",
              "ASF          0\n",
              "dtype: int64"
            ]
          },
          "metadata": {},
          "execution_count": 115
        }
      ]
    },
    {
      "cell_type": "code",
      "source": [
        "#Check if the missing values are from the NonDemented category\n",
        "data[data['Group']== 0].isnull().sum() "
      ],
      "metadata": {
        "colab": {
          "base_uri": "https://localhost:8080/"
        },
        "id": "VCsJKfFwJ9ck",
        "outputId": "e3f6dea0-00b5-4212-e27a-ea81c7cfae56"
      },
      "execution_count": null,
      "outputs": [
        {
          "output_type": "execute_result",
          "data": {
            "text/plain": [
              "Group       0\n",
              "Visit       0\n",
              "MR Delay    0\n",
              "Sex         0\n",
              "Age         0\n",
              "EDUC        0\n",
              "SES         0\n",
              "MMSE        0\n",
              "CDR         0\n",
              "eTIV        0\n",
              "nWBV        0\n",
              "ASF         0\n",
              "dtype: int64"
            ]
          },
          "metadata": {},
          "execution_count": 116
        }
      ]
    },
    {
      "cell_type": "code",
      "source": [
        "#Check if the missing values are from the Demented category; which they are\n",
        "data[data['Group']== 1].isnull().sum()"
      ],
      "metadata": {
        "colab": {
          "base_uri": "https://localhost:8080/"
        },
        "id": "YsCMtDsAKB84",
        "outputId": "e3aa1a00-dbcf-488e-e9e4-3a68198327b3"
      },
      "execution_count": null,
      "outputs": [
        {
          "output_type": "execute_result",
          "data": {
            "text/plain": [
              "Group        0\n",
              "Visit        0\n",
              "MR Delay     0\n",
              "Sex          0\n",
              "Age          0\n",
              "EDUC         0\n",
              "SES         19\n",
              "MMSE         2\n",
              "CDR          0\n",
              "eTIV         0\n",
              "nWBV         0\n",
              "ASF          0\n",
              "dtype: int64"
            ]
          },
          "metadata": {},
          "execution_count": 117
        }
      ]
    },
    {
      "cell_type": "markdown",
      "source": [
        "**impute the missing values in 'MMSE' with the median of the demented group (since all missing values in MMSE were from 'Demented' category of the 'Group' column) and imputed the missing values in 'SES' with the mode of the 'Demented' group.**"
      ],
      "metadata": {
        "id": "hYVIW6HtJEbV"
      }
    },
    {
      "cell_type": "code",
      "source": [
        "#Check the Median and Mode of the MMSE and SES columns based on the Demented category\n",
        "mmse_med = data[data['Group']== 1]['MMSE'].median()\n",
        "ses_mean = data[data['Group']== 1]['SES'].mode()[0]"
      ],
      "metadata": {
        "id": "6a1uCVfpI-Hd"
      },
      "execution_count": null,
      "outputs": []
    },
    {
      "cell_type": "code",
      "source": [
        "#Fill the missing values in MMSE with the median of the demented group\n",
        "data.MMSE.fillna(mmse_med, inplace =True) \n",
        "\n",
        "#Fill the missing values in SES with the mode of the demented group\n",
        "data.SES.fillna(ses_mean, inplace =True) "
      ],
      "metadata": {
        "id": "ZmBznKmxKX-I"
      },
      "execution_count": null,
      "outputs": []
    },
    {
      "cell_type": "markdown",
      "source": [
        "**Check the heatmap of the dataset based on the corr between features and output**"
      ],
      "metadata": {
        "id": "Me3W8HicKrsd"
      }
    },
    {
      "cell_type": "code",
      "source": [
        "plt.figure(figsize = (10,10))\n",
        "sns.heatmap(data.corr(), annot = True);\n",
        "# plt.savefig('corr_plot.png', dpi=100, bbox_inches='tight')"
      ],
      "metadata": {
        "colab": {
          "base_uri": "https://localhost:8080/",
          "height": 640
        },
        "id": "p9x_pp6lKfCT",
        "outputId": "2098d2ce-c003-4131-8603-9b1f2b7d71ea"
      },
      "execution_count": null,
      "outputs": [
        {
          "output_type": "display_data",
          "data": {
            "text/plain": [
              "<Figure size 720x720 with 2 Axes>"
            ],
            "image/png": "[encoded data removed]"
          },
          "metadata": {}
        }
      ]
    },
    {
      "cell_type": "markdown",
      "source": [
        "**Observations fron the heat map**\n",
        "\n",
        "- From the heat map it is interpreted that, the dementia classification group exhibits the highest positive correlation with `CDR` and also exhibits relatively high positive correlation with the `age` of the subject.\n",
        "\n",
        "\n",
        "- The dementia classification group exhibits the highest negative correlation with `MMSE` score of the subject and also exhibits relatively high negative correlation with the `sex`, `education level`, and the `nWBV` of the subject.\n",
        "\n",
        "\n",
        "**Hence, the following features were considered for the prediction model:**\n",
        "  \n",
        "      - Sex.\n",
        "\n",
        "      - Age.\n",
        "\n",
        "      - Education level.\n",
        "\n",
        "      - Mini-mental state examination score.\n",
        "\n",
        "      - Clinical dementia rating.\n",
        "\n",
        "      - Normalized whole brain volume.\n",
        "\n",
        "      - Estimated total intercranial volume"
      ],
      "metadata": {
        "id": "huhHARB7K4ys"
      }
    },
    {
      "cell_type": "markdown",
      "source": [
        "**Drop the unwanted Columns**"
      ],
      "metadata": {
        "id": "B0F6qxLa_Ye6"
      }
    },
    {
      "cell_type": "code",
      "source": [
        "data = data.drop(['Visit', 'SES', 'MR Delay', 'ASF'], axis = 1)"
      ],
      "metadata": {
        "id": "ANwEXMsD_XoH"
      },
      "execution_count": null,
      "outputs": []
    },
    {
      "cell_type": "markdown",
      "source": [
        "**Checking for outliers**"
      ],
      "metadata": {
        "id": "wos0AvVqNM4w"
      }
    },
    {
      "cell_type": "code",
      "source": [
        "def plot_boxplot(df, ft):\n",
        "  df.boxplot(column=[ft])\n",
        "  plt.grid(False)\n",
        "  plt.show()"
      ],
      "metadata": {
        "id": "92i2wjoFKvoz"
      },
      "execution_count": null,
      "outputs": []
    },
    {
      "cell_type": "code",
      "source": [
        "features = ['Age', 'EDUC', 'MMSE', 'CDR', 'eTIV', 'nWBV']\n",
        "for feat in features:\n",
        "  plot_boxplot(data, feat)\n",
        "  print(\"\\n\\n\")"
      ],
      "metadata": {
        "colab": {
          "base_uri": "https://localhost:8080/",
          "height": 1000
        },
        "id": "h5XjMUpEPjJR",
        "outputId": "eb4fc87e-0f8a-45be-b641-14f8539e36b8"
      },
      "execution_count": null,
      "outputs": [
        {
          "output_type": "display_data",
          "data": {
            "text/plain": [
              "<Figure size 432x288 with 1 Axes>"
            ],
            "image/png": "[encoded data removed]"
          },
          "metadata": {}
        },
        {
          "output_type": "stream",
          "name": "stdout",
          "text": [
            "\n",
            "\n",
            "\n"
          ]
        },
        {
          "output_type": "display_data",
          "data": {
            "text/plain": [
              "<Figure size 432x288 with 1 Axes>"
            ],
            "image/png": "[encoded data removed]"
          },
          "metadata": {}
        },
        {
          "output_type": "stream",
          "name": "stdout",
          "text": [
            "\n",
            "\n",
            "\n"
          ]
        },
        {
          "output_type": "display_data",
          "data": {
            "text/plain": [
              "<Figure size 432x288 with 1 Axes>"
            ],
            "image/png": "[encoded data removed]"
          },
          "metadata": {}
        },
        {
          "output_type": "stream",
          "name": "stdout",
          "text": [
            "\n",
            "\n",
            "\n"
          ]
        },
        {
          "output_type": "display_data",
          "data": {
            "text/plain": [
              "<Figure size 432x288 with 1 Axes>"
            ],
            "image/png": "[encoded data removed]"
          },
          "metadata": {}
        },
        {
          "output_type": "stream",
          "name": "stdout",
          "text": [
            "\n",
            "\n",
            "\n"
          ]
        },
        {
          "output_type": "display_data",
          "data": {
            "text/plain": [
              "<Figure size 432x288 with 1 Axes>"
            ],
            "image/png": "[encoded data removed]"
          },
          "metadata": {}
        },
        {
          "output_type": "stream",
          "name": "stdout",
          "text": [
            "\n",
            "\n",
            "\n"
          ]
        },
        {
          "output_type": "display_data",
          "data": {
            "text/plain": [
              "<Figure size 432x288 with 1 Axes>"
            ],
            "image/png": "[encoded data removed]"
          },
          "metadata": {}
        },
        {
          "output_type": "stream",
          "name": "stdout",
          "text": [
            "\n",
            "\n",
            "\n"
          ]
        }
      ]
    },
    {
      "cell_type": "markdown",
      "source": [
        "**Observations on Outliers**\n",
        "\n",
        "- There are no outliers in the 'Age' and 'nWBV' column\n",
        "- Outliers in the other columns (EDUC, MMSE, eTIV) will be removed except for those in the 'CDR' columns\n",
        "- We are excepting CDR because the outlier refers to a rare case of dementia which explains why it was categorized as an outlier"
      ],
      "metadata": {
        "id": "bAd38F5kRFXK"
      }
    },
    {
      "cell_type": "markdown",
      "source": [
        "**Removing Outliers**"
      ],
      "metadata": {
        "id": "Rlcxg1MKV3-E"
      }
    },
    {
      "cell_type": "code",
      "source": [
        "#Create a function that returns a list containing all the index of outliers based on interquatile range\n",
        "def outliers(df, ft):\n",
        "  Q1 = df[ft].quantile(0.25)\n",
        "  Q3 = df[ft].quantile(0.75)\n",
        "  IQR = Q3 - Q1\n",
        "\n",
        "  lower_bound = Q1 - 1.5 * IQR\n",
        "  upper_bound = Q3 + 1.5 * IQR\n",
        "\n",
        "  ls = df.index[ (df[ft] < lower_bound) | (df[ft] > upper_bound) ]\n",
        "\n",
        "  return ls"
      ],
      "metadata": {
        "id": "jZottiqsP9gr"
      },
      "execution_count": null,
      "outputs": []
    },
    {
      "cell_type": "code",
      "source": [
        "#Create an empty list to store the output indices from multiple columns\n",
        "index_list = []\n",
        "for feature in ['EDUC', 'MMSE', 'eTIV']:\n",
        "  index_list.extend(outliers(data, feature))"
      ],
      "metadata": {
        "id": "zULigqRPWMgx"
      },
      "execution_count": null,
      "outputs": []
    },
    {
      "cell_type": "code",
      "source": [
        "len(index_list)"
      ],
      "metadata": {
        "id": "KHNXlB2QWkr3",
        "colab": {
          "base_uri": "https://localhost:8080/"
        },
        "outputId": "168384d2-24ad-4dc3-e003-8d8f14238a02"
      },
      "execution_count": null,
      "outputs": [
        {
          "output_type": "execute_result",
          "data": {
            "text/plain": [
              "47"
            ]
          },
          "metadata": {},
          "execution_count": 126
        }
      ]
    },
    {
      "cell_type": "code",
      "source": [
        "# Define a function to remove the outliers and returns a cleaned dataframe without outliers\n",
        "def remove(df, ls):\n",
        "  ls = sorted(set(ls))\n",
        "  df = df.drop(ls)\n",
        "  return df"
      ],
      "metadata": {
        "id": "UTs63e-wWpuJ"
      },
      "execution_count": null,
      "outputs": []
    },
    {
      "cell_type": "code",
      "source": [
        "data_clean = remove(data,index_list)"
      ],
      "metadata": {
        "id": "0Y6PlK_AW0t1"
      },
      "execution_count": null,
      "outputs": []
    },
    {
      "cell_type": "markdown",
      "source": [
        "### **Visualizations**"
      ],
      "metadata": {
        "id": "GcL_Le3yjoBy"
      }
    },
    {
      "cell_type": "markdown",
      "source": [
        "**Show the count_plot for each category in the Group column**"
      ],
      "metadata": {
        "id": "JxAtY37Blp3z"
      }
    },
    {
      "cell_type": "code",
      "source": [
        "custom_params = {\"axes.spines.right\": False, \"axes.spines.top\": False}\n",
        "sns.set_theme(style=\"ticks\", rc=custom_params, palette='pastel')\n",
        "fig = plt.figure ( figsize= (8,6) )\n",
        "ax=sns.countplot(data=data_clean, x='Group')\n",
        "for i in ax.patches:\n",
        "    ax.text(x=i.get_x()+i.get_width()/2, y=i.get_height()/7, s=f\"{np.round(i.get_height()/len(data_clean)*100,0)}%\", ha='center', size=20, weight='bold', rotation=360, color='white')\n",
        "plt.title(\"Group Feature\", size=20, weight='bold')\n",
        "plt.ylabel ( 'Count' )\n",
        "plt.show()\n",
        "plt.savefig('clean_count_plot.png', bbox_inches='tight')"
      ],
      "metadata": {
        "id": "LdH7BfNgjskY",
        "colab": {
          "base_uri": "https://localhost:8080/",
          "height": 432
        },
        "outputId": "f0ef378d-56a7-4a23-907f-c27bb12e8605"
      },
      "execution_count": null,
      "outputs": [
        {
          "output_type": "display_data",
          "data": {
            "text/plain": [
              "<Figure size 576x432 with 1 Axes>"
            ],
            "image/png": "[encoded data removed]"
          },
          "metadata": {}
        },
        {
          "output_type": "display_data",
          "data": {
            "text/plain": [
              "<Figure size 432x288 with 0 Axes>"
            ]
          },
          "metadata": {}
        }
      ]
    },
    {
      "cell_type": "markdown",
      "source": [
        "**Show the distribution of the Group column by sex**"
      ],
      "metadata": {
        "id": "v7bv-KcInA9q"
      }
    },
    {
      "cell_type": "code",
      "source": [
        "plt.figure ( figsize= (8,6) )\n",
        "sns.countplot ( data_clean.Group, data=data_clean, hue='Sex' )\n",
        "plt.title(\"Group Feature by Sex\", size=20, weight='bold')\n",
        "plt.ylabel ( 'Count' )\n",
        "plt.xlabel ('', size = 16 )\n",
        "plt.show()\n",
        "plt.savefig('group_by_sex.png', dpi=100, bbox_inches='tight')"
      ],
      "metadata": {
        "id": "pR2qx9zXjsRK",
        "colab": {
          "base_uri": "https://localhost:8080/",
          "height": 469
        },
        "outputId": "7aaabde5-3e33-4b22-9a39-d1bec3fdc963"
      },
      "execution_count": null,
      "outputs": [
        {
          "output_type": "stream",
          "name": "stderr",
          "text": [
            "/usr/local/lib/python3.7/dist-packages/seaborn/_decorators.py:43: FutureWarning: Pass the following variable as a keyword arg: x. From version 0.12, the only valid positional argument will be `data`, and passing other arguments without an explicit keyword will result in an error or misinterpretation.\n",
            "  FutureWarning\n"
          ]
        },
        {
          "output_type": "display_data",
          "data": {
            "text/plain": [
              "<Figure size 576x432 with 1 Axes>"
            ],
            "image/png": "[encoded data removed]"
          },
          "metadata": {}
        },
        {
          "output_type": "display_data",
          "data": {
            "text/plain": [
              "<Figure size 432x288 with 0 Axes>"
            ]
          },
          "metadata": {}
        }
      ]
    },
    {
      "cell_type": "markdown",
      "source": [
        "**Save the clean data in a csv file**"
      ],
      "metadata": {
        "id": "Fwz5oZlNW8tN"
      }
    },
    {
      "cell_type": "code",
      "source": [
        "data_clean.to_csv('/content/clean_dementia_dataset.csv',index = False)"
      ],
      "metadata": {
        "id": "DZrCuWmqW6s1"
      },
      "execution_count": null,
      "outputs": []
    },
    {
      "cell_type": "markdown",
      "source": [
        "**Normalized the dataset and split to train and test set**"
      ],
      "metadata": {
        "id": "Yt7Dvip3XnER"
      }
    },
    {
      "cell_type": "code",
      "source": [
        "X = data_clean.drop('Group', axis = 1) #Create the X features by droping the output column of the clean dataset\n",
        "y = data_clean['Group'] #Create the y output by selecting the Output column of the clean dataset"
      ],
      "metadata": {
        "id": "dHfi2bNsXtMd"
      },
      "execution_count": null,
      "outputs": []
    },
    {
      "cell_type": "code",
      "source": [
        "scaler = StandardScaler() #create an object of StandardScaler\n",
        "X_norm = pd.DataFrame(scaler.fit_transform(X), columns = X.columns) #transform the X features by calling the 'fit_transform' method "
      ],
      "metadata": {
        "id": "1OkPPspFYMUS"
      },
      "execution_count": null,
      "outputs": []
    },
    {
      "cell_type": "code",
      "source": [
        "X_norm.head()"
      ],
      "metadata": {
        "id": "Lv7-BwRW_GEs",
        "colab": {
          "base_uri": "https://localhost:8080/",
          "height": 204
        },
        "outputId": "73486b65-190c-42d9-e7d3-064a80a40ea5"
      },
      "execution_count": null,
      "outputs": [
        {
          "output_type": "execute_result",
          "data": {
            "text/plain": [
              "        Sex       Age      EDUC      MMSE       CDR      eTIV      nWBV\n",
              "0  1.197011 -0.273032 -0.944050 -3.009412  0.903785  1.109133  0.043781\n",
              "1  1.197011 -0.138375 -0.944050 -0.223869  0.903785  1.451072 -0.592399\n",
              "2 -0.835414  1.477510  1.185779 -0.223869 -0.715083 -1.529494 -0.675379\n",
              "3 -0.835414  1.746824  1.185779 -0.780978 -0.715083 -1.614979 -0.454099\n",
              "4  1.197011  0.400254 -0.944050 -0.223869 -0.715083  1.171822 -0.620059"
            ],
            "text/html": [
              "\n",
              "  <div id=\"df-560b8959-d44c-485b-bc58-4672802d3fd5\">\n",
              "    <div class=\"colab-df-container\">\n",
              "      <div>\n",
              "<style scoped>\n",
              "    .dataframe tbody tr th:only-of-type {\n",
              "        vertical-align: middle;\n",
              "    }\n",
              "\n",
              "    .dataframe tbody tr th {\n",
              "        vertical-align: top;\n",
              "    }\n",
              "\n",
              "    .dataframe thead th {\n",
              "        text-align: right;\n",
              "    }\n",
              "</style>\n",
              "<table border=\"1\" class=\"dataframe\">\n",
              "  <thead>\n",
              "    <tr style=\"text-align: right;\">\n",
              "      <th></th>\n",
              "      <th>Sex</th>\n",
              "      <th>Age</th>\n",
              "      <th>EDUC</th>\n",
              "      <th>MMSE</th>\n",
              "      <th>CDR</th>\n",
              "      <th>eTIV</th>\n",
              "      <th>nWBV</th>\n",
              "    </tr>\n",
              "  </thead>\n",
              "  <tbody>\n",
              "    <tr>\n",
              "      <th>0</th>\n",
              "      <td>1.197011</td>\n",
              "      <td>-0.273032</td>\n",
              "      <td>-0.944050</td>\n",
              "      <td>-3.009412</td>\n",
              "      <td>0.903785</td>\n",
              "      <td>1.109133</td>\n",
              "      <td>0.043781</td>\n",
              "    </tr>\n",
              "    <tr>\n",
              "      <th>1</th>\n",
              "      <td>1.197011</td>\n",
              "      <td>-0.138375</td>\n",
              "      <td>-0.944050</td>\n",
              "      <td>-0.223869</td>\n",
              "      <td>0.903785</td>\n",
              "      <td>1.451072</td>\n",
              "      <td>-0.592399</td>\n",
              "    </tr>\n",
              "    <tr>\n",
              "      <th>2</th>\n",
              "      <td>-0.835414</td>\n",
              "      <td>1.477510</td>\n",
              "      <td>1.185779</td>\n",
              "      <td>-0.223869</td>\n",
              "      <td>-0.715083</td>\n",
              "      <td>-1.529494</td>\n",
              "      <td>-0.675379</td>\n",
              "    </tr>\n",
              "    <tr>\n",
              "      <th>3</th>\n",
              "      <td>-0.835414</td>\n",
              "      <td>1.746824</td>\n",
              "      <td>1.185779</td>\n",
              "      <td>-0.780978</td>\n",
              "      <td>-0.715083</td>\n",
              "      <td>-1.614979</td>\n",
              "      <td>-0.454099</td>\n",
              "    </tr>\n",
              "    <tr>\n",
              "      <th>4</th>\n",
              "      <td>1.197011</td>\n",
              "      <td>0.400254</td>\n",
              "      <td>-0.944050</td>\n",
              "      <td>-0.223869</td>\n",
              "      <td>-0.715083</td>\n",
              "      <td>1.171822</td>\n",
              "      <td>-0.620059</td>\n",
              "    </tr>\n",
              "  </tbody>\n",
              "</table>\n",
              "</div>\n",
              "      <button class=\"colab-df-convert\" onclick=\"convertToInteractive('df-560b8959-d44c-485b-bc58-4672802d3fd5')\"\n",
              "              title=\"Convert this dataframe to an interactive table.\"\n",
              "              style=\"display:none;\">\n",
              "        \n",
              "  <svg xmlns=\"http://www.w3.org/2000/svg\" height=\"24px\"viewBox=\"0 0 24 24\"\n",
              "       width=\"24px\">\n",
              "    <path d=\"M0 0h24v24H0V0z\" fill=\"none\"/>\n",
              "    <path d=\"M18.56 5.44l.94 2.06.94-2.06 2.06-.94-2.06-.94-.94-2.06-.94 2.06-2.06.94zm-11 1L8.5 8.5l.94-2.06 2.06-.94-2.06-.94L8.5 2.5l-.94 2.06-2.06.94zm10 10l.94 2.06.94-2.06 2.06-.94-2.06-.94-.94-2.06-.94 2.06-2.06.94z\"/><path d=\"M17.41 7.96l-1.37-1.37c-.4-.4-.92-.59-1.43-.59-.52 0-1.04.2-1.43.59L10.3 9.45l-7.72 7.72c-.78.78-.78 2.05 0 2.83L4 21.41c.39.39.9.59 1.41.59.51 0 1.02-.2 1.41-.59l7.78-7.78 2.81-2.81c.8-.78.8-2.07 0-2.86zM5.41 20L4 18.59l7.72-7.72 1.47 1.35L5.41 20z\"/>\n",
              "  </svg>\n",
              "      </button>\n",
              "      \n",
              "  <style>\n",
              "    .colab-df-container {\n",
              "      display:flex;\n",
              "      flex-wrap:wrap;\n",
              "      gap: 12px;\n",
              "    }\n",
              "\n",
              "    .colab-df-convert {\n",
              "      background-color: #E8F0FE;\n",
              "      border: none;\n",
              "      border-radius: 50%;\n",
              "      cursor: pointer;\n",
              "      display: none;\n",
              "      fill: #1967D2;\n",
              "      height: 32px;\n",
              "      padding: 0 0 0 0;\n",
              "      width: 32px;\n",
              "    }\n",
              "\n",
              "    .colab-df-convert:hover {\n",
              "      background-color: #E2EBFA;\n",
              "      box-shadow: 0px 1px 2px rgba(60, 64, 67, 0.3), 0px 1px 3px 1px rgba(60, 64, 67, 0.15);\n",
              "      fill: #174EA6;\n",
              "    }\n",
              "\n",
              "    [theme=dark] .colab-df-convert {\n",
              "      background-color: #3B4455;\n",
              "      fill: #D2E3FC;\n",
              "    }\n",
              "\n",
              "    [theme=dark] .colab-df-convert:hover {\n",
              "      background-color: #434B5C;\n",
              "      box-shadow: 0px 1px 3px 1px rgba(0, 0, 0, 0.15);\n",
              "      filter: drop-shadow(0px 1px 2px rgba(0, 0, 0, 0.3));\n",
              "      fill: #FFFFFF;\n",
              "    }\n",
              "  </style>\n",
              "\n",
              "      <script>\n",
              "        const buttonEl =\n",
              "          document.querySelector('#df-560b8959-d44c-485b-bc58-4672802d3fd5 button.colab-df-convert');\n",
              "        buttonEl.style.display =\n",
              "          google.colab.kernel.accessAllowed ? 'block' : 'none';\n",
              "\n",
              "        async function convertToInteractive(key) {\n",
              "          const element = document.querySelector('#df-560b8959-d44c-485b-bc58-4672802d3fd5');\n",
              "          const dataTable =\n",
              "            await google.colab.kernel.invokeFunction('convertToInteractive',\n",
              "                                                     [key], {});\n",
              "          if (!dataTable) return;\n",
              "\n",
              "          const docLinkHtml = 'Like what you see? Visit the ' +\n",
              "            '<a target=\"_blank\" href=https://colab.research.google.com/notebooks/data_table.ipynb>data table notebook</a>'\n",
              "            + ' to learn more about interactive tables.';\n",
              "          element.innerHTML = '';\n",
              "          dataTable['output_type'] = 'display_data';\n",
              "          await google.colab.output.renderOutput(dataTable, element);\n",
              "          const docLink = document.createElement('div');\n",
              "          docLink.innerHTML = docLinkHtml;\n",
              "          element.appendChild(docLink);\n",
              "        }\n",
              "      </script>\n",
              "    </div>\n",
              "  </div>\n",
              "  "
            ]
          },
          "metadata": {},
          "execution_count": 134
        }
      ]
    },
    {
      "cell_type": "code",
      "source": [
        "X_train, X_test, y_train, y_test = train_test_split(X_norm,y, test_size = 0.2, random_state = 1, stratify = y) "
      ],
      "metadata": {
        "id": "_K2yuTZUYLtJ"
      },
      "execution_count": null,
      "outputs": []
    },
    {
      "cell_type": "markdown",
      "source": [
        "# **Model Training and Evaluation**"
      ],
      "metadata": {
        "id": "9KPYoeSfXZqS"
      }
    },
    {
      "cell_type": "code",
      "source": [
        "classifiers = [ LogisticRegression(random_state=42), SVC (random_state=42),\n",
        "       RandomForestClassifier(random_state=42), XGBClassifier(random_state=42) ]\n",
        "model_names = [ 'Logistic Regression', 'Support vector machine', 'Random Forest', 'XGradient boost' ]\n"
      ],
      "metadata": {
        "id": "IhCSY7TmXKS7"
      },
      "execution_count": null,
      "outputs": []
    },
    {
      "cell_type": "code",
      "source": [
        "#Define a function to teat the performace of different models \n",
        "def train_val_models(classifiers, model_names, X_train,y_train, X_test, y_test):\n",
        "\n",
        "  reports = []\n",
        "\n",
        "  for clf, model in zip(classifiers,model_names):\n",
        "    clf.fit ( X_train, y_train )\n",
        "    y_pred = clf.predict (X_test)\n",
        "    report = classification_report(y_test, y_pred)\n",
        "    reports.append(report)\n",
        "\n",
        "  return model_names, reports"
      ],
      "metadata": {
        "id": "VLuiMs4tbBLs"
      },
      "execution_count": null,
      "outputs": []
    },
    {
      "cell_type": "code",
      "source": [
        "model_names, reports = train_val_models(classifiers, model_names, X_train,y_train, X_test, y_test)"
      ],
      "metadata": {
        "id": "G56x5UPqgWdw",
        "colab": {
          "base_uri": "https://localhost:8080/"
        },
        "outputId": "a398e2d9-5407-456d-fcba-40c793717f72"
      },
      "execution_count": null,
      "outputs": [
        {
          "output_type": "stream",
          "name": "stderr",
          "text": [
            "/usr/local/lib/python3.7/dist-packages/sklearn/metrics/_classification.py:1318: UndefinedMetricWarning: Precision and F-score are ill-defined and being set to 0.0 in labels with no predicted samples. Use `zero_division` parameter to control this behavior.\n",
            "  _warn_prf(average, modifier, msg_start, len(result))\n",
            "/usr/local/lib/python3.7/dist-packages/sklearn/metrics/_classification.py:1318: UndefinedMetricWarning: Precision and F-score are ill-defined and being set to 0.0 in labels with no predicted samples. Use `zero_division` parameter to control this behavior.\n",
            "  _warn_prf(average, modifier, msg_start, len(result))\n",
            "/usr/local/lib/python3.7/dist-packages/sklearn/metrics/_classification.py:1318: UndefinedMetricWarning: Precision and F-score are ill-defined and being set to 0.0 in labels with no predicted samples. Use `zero_division` parameter to control this behavior.\n",
            "  _warn_prf(average, modifier, msg_start, len(result))\n"
          ]
        }
      ]
    },
    {
      "cell_type": "code",
      "source": [
        "for name,report in zip(model_names,reports):\n",
        "  print(name)\n",
        "  print(report)\n",
        "  print(\"\\n\\n\")"
      ],
      "metadata": {
        "id": "bHzhfV3qgiM7",
        "colab": {
          "base_uri": "https://localhost:8080/"
        },
        "outputId": "cd8f3a61-20a2-43eb-b776-73486bbce5a4"
      },
      "execution_count": null,
      "outputs": [
        {
          "output_type": "stream",
          "name": "stdout",
          "text": [
            "Logistic Regression\n",
            "              precision    recall  f1-score   support\n",
            "\n",
            "           0       0.88      1.00      0.94        37\n",
            "           1       0.88      1.00      0.93        21\n",
            "           2       0.00      0.00      0.00         8\n",
            "\n",
            "    accuracy                           0.88        66\n",
            "   macro avg       0.59      0.67      0.62        66\n",
            "weighted avg       0.77      0.88      0.82        66\n",
            "\n",
            "\n",
            "\n",
            "\n",
            "Support vector machine\n",
            "              precision    recall  f1-score   support\n",
            "\n",
            "           0       0.88      1.00      0.94        37\n",
            "           1       0.91      1.00      0.95        21\n",
            "           2       1.00      0.12      0.22         8\n",
            "\n",
            "    accuracy                           0.89        66\n",
            "   macro avg       0.93      0.71      0.70        66\n",
            "weighted avg       0.91      0.89      0.86        66\n",
            "\n",
            "\n",
            "\n",
            "\n",
            "Random Forest\n",
            "              precision    recall  f1-score   support\n",
            "\n",
            "           0       0.88      1.00      0.94        37\n",
            "           1       0.95      1.00      0.98        21\n",
            "           2       1.00      0.25      0.40         8\n",
            "\n",
            "    accuracy                           0.91        66\n",
            "   macro avg       0.95      0.75      0.77        66\n",
            "weighted avg       0.92      0.91      0.88        66\n",
            "\n",
            "\n",
            "\n",
            "\n",
            "XGradient boost\n",
            "              precision    recall  f1-score   support\n",
            "\n",
            "           0       0.86      1.00      0.92        37\n",
            "           1       0.95      0.90      0.93        21\n",
            "           2       0.67      0.25      0.36         8\n",
            "\n",
            "    accuracy                           0.88        66\n",
            "   macro avg       0.83      0.72      0.74        66\n",
            "weighted avg       0.87      0.88      0.86        66\n",
            "\n",
            "\n",
            "\n",
            "\n"
          ]
        }
      ]
    },
    {
      "cell_type": "markdown",
      "source": [
        "**Observation**\n",
        "\n",
        "Random Forest Classifier apears to be the best performing model"
      ],
      "metadata": {
        "id": "BfBB8bx0ixQ7"
      }
    },
    {
      "cell_type": "markdown",
      "source": [
        "**Training an Random Forest Model**"
      ],
      "metadata": {
        "id": "0MsB48CQhnaR"
      }
    },
    {
      "cell_type": "code",
      "source": [
        "model = RandomForestClassifier(random_state=42)\n",
        "model.fit(X_train,y_train)"
      ],
      "metadata": {
        "id": "dXTgDDEWg0TB",
        "colab": {
          "base_uri": "https://localhost:8080/"
        },
        "outputId": "9b7eceea-cb16-4f7b-bec9-a6914369fc22"
      },
      "execution_count": null,
      "outputs": [
        {
          "output_type": "execute_result",
          "data": {
            "text/plain": [
              "RandomForestClassifier(random_state=42)"
            ]
          },
          "metadata": {},
          "execution_count": 140
        }
      ]
    },
    {
      "cell_type": "code",
      "source": [
        "#Print Classification Report for training data\n",
        "target_names = ['Demented', 'Non Demented', 'Converted']\n",
        "print(classification_report(y_train, model.predict(X_train), target_names=target_names))"
      ],
      "metadata": {
        "id": "TmnpRawJiDpF",
        "colab": {
          "base_uri": "https://localhost:8080/"
        },
        "outputId": "b4403c44-0c41-4ea7-df22-4d42f8d50b18"
      },
      "execution_count": null,
      "outputs": [
        {
          "output_type": "stream",
          "name": "stdout",
          "text": [
            "              precision    recall  f1-score   support\n",
            "\n",
            "    Demented       1.00      1.00      1.00       148\n",
            "Non Demented       1.00      1.00      1.00        83\n",
            "   Converted       1.00      1.00      1.00        29\n",
            "\n",
            "    accuracy                           1.00       260\n",
            "   macro avg       1.00      1.00      1.00       260\n",
            "weighted avg       1.00      1.00      1.00       260\n",
            "\n"
          ]
        }
      ]
    },
    {
      "cell_type": "code",
      "source": [
        "#Print Classification Report for test data\n",
        "target_names = ['Demented', 'Non Demented', 'Converted']\n",
        "print(classification_report(y_test, model.predict(X_test), target_names=target_names))"
      ],
      "metadata": {
        "id": "fV-GZns-ih3T",
        "colab": {
          "base_uri": "https://localhost:8080/"
        },
        "outputId": "907d0436-a1cb-4ccb-c8e0-474cc4981825"
      },
      "execution_count": null,
      "outputs": [
        {
          "output_type": "stream",
          "name": "stdout",
          "text": [
            "              precision    recall  f1-score   support\n",
            "\n",
            "    Demented       0.88      1.00      0.94        37\n",
            "Non Demented       0.95      1.00      0.98        21\n",
            "   Converted       1.00      0.25      0.40         8\n",
            "\n",
            "    accuracy                           0.91        66\n",
            "   macro avg       0.95      0.75      0.77        66\n",
            "weighted avg       0.92      0.91      0.88        66\n",
            "\n"
          ]
        }
      ]
    },
    {
      "cell_type": "markdown",
      "source": [
        "**Show confusion matrix**"
      ],
      "metadata": {
        "id": "MgPkt_5zkBys"
      }
    },
    {
      "cell_type": "code",
      "source": [
        "from sklearn.metrics import confusion_matrix"
      ],
      "metadata": {
        "id": "h9qjHsTmkUre"
      },
      "execution_count": null,
      "outputs": []
    },
    {
      "cell_type": "code",
      "source": [
        "conf_matrix = confusion_matrix (  y_test, model.predict(X_test) )\n",
        "\n",
        "print ('Number of records in the test dataset: %d\\n' %y_test.shape[0])\n",
        "\n",
        "# fig, axes = plt.subplots(1, 2, figsize=(15, 5), sharey=False)\n",
        "#plot 1\n",
        "sns.heatmap(conf_matrix,annot=True, cmap='Blues', cbar=False, fmt='d')\n",
        "plt.xlabel('Predicted label', size = 14)\n",
        "plt.ylabel('True label', size = 14)\n",
        "plt.savefig('conf_matrix.png', dpi=100, bbox_inches='tight')"
      ],
      "metadata": {
        "id": "8TmhBwXykFna",
        "colab": {
          "base_uri": "https://localhost:8080/",
          "height": 320
        },
        "outputId": "ea7f63c0-8615-46da-b0f5-4c2e4b3a07d2"
      },
      "execution_count": null,
      "outputs": [
        {
          "output_type": "stream",
          "name": "stdout",
          "text": [
            "Number of records in the test dataset: 66\n",
            "\n"
          ]
        },
        {
          "output_type": "display_data",
          "data": {
            "text/plain": [
              "<Figure size 432x288 with 1 Axes>"
            ],
            "image/png": "[encoded data removed]"
          },
          "metadata": {}
        }
      ]
    },
    {
      "cell_type": "markdown",
      "source": [
        "**Save the Model**"
      ],
      "metadata": {
        "id": "kmtmkKe6jE9B"
      }
    },
    {
      "cell_type": "code",
      "source": [
        "import pickle"
      ],
      "metadata": {
        "id": "_ymhrcL2in4M"
      },
      "execution_count": null,
      "outputs": []
    },
    {
      "cell_type": "code",
      "source": [
        "with open(\"dementia_model.pkl\", \"wb\") as f:\n",
        "  pickle.dump(model,f)"
      ],
      "metadata": {
        "id": "xdu0KYsmjNqX"
      },
      "execution_count": null,
      "outputs": []
    },
    {
      "cell_type": "code",
      "source": [],
      "metadata": {
        "id": "T2Ylfe6ajc6I"
      },
      "execution_count": null,
      "outputs": []
    },
    {
      "cell_type": "code",
      "source": [],
      "metadata": {
        "id": "C5Ny0mB55DBa",
        "colab": {
          "base_uri": "https://localhost:8080/",
          "height": 35
        },
        "outputId": "f3a2528e-72b7-46eb-f114-822c8de5ea36"
      },
      "execution_count": null,
      "outputs": [
        {
          "output_type": "execute_result",
          "data": {
            "text/plain": [
              "'0.90'"
            ],
            "application/vnd.google.colaboratory.intrinsic+json": {
              "type": "string"
            }
          },
          "metadata": {},
          "execution_count": 147
        }
      ]
    },
    {
      "cell_type": "code",
      "source": [],
      "metadata": {
        "id": "y3ARob2K5gUM"
      },
      "execution_count": null,
      "outputs": []
    }
  ]
}